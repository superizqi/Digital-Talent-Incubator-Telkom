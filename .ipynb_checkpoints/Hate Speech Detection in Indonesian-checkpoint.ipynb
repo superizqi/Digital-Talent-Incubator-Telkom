{
 "cells": [
  {
   "cell_type": "markdown",
   "metadata": {},
   "source": [
    "## Hate Speech Detection\n",
    "\n",
    "Here the model the classification model from Indonesian Hate Speech Dataet (https://github.com/ialfina/id-hatespeech-detection).\n",
    "We will create model to detect hate speech."
   ]
  },
  {
   "cell_type": "code",
   "execution_count": 279,
   "metadata": {},
   "outputs": [
    {
     "name": "stdout",
     "output_type": "stream",
     "text": [
      "Requirement already satisfied: Sastrawi in c:\\programdata\\anaconda3\\lib\\site-packages (1.0.1)\n",
      "Requirement already satisfied: nltk in c:\\programdata\\anaconda3\\lib\\site-packages (3.5)\n",
      "Requirement already satisfied: regex in c:\\programdata\\anaconda3\\lib\\site-packages (from nltk) (2020.6.8)\n",
      "Requirement already satisfied: joblib in c:\\programdata\\anaconda3\\lib\\site-packages (from nltk) (0.16.0)\n",
      "Requirement already satisfied: tqdm in c:\\programdata\\anaconda3\\lib\\site-packages (from nltk) (4.47.0)\n",
      "Requirement already satisfied: click in c:\\programdata\\anaconda3\\lib\\site-packages (from nltk) (7.1.2)\n",
      "Requirement already satisfied: textblob in c:\\programdata\\anaconda3\\lib\\site-packages (0.15.3)\n",
      "Requirement already satisfied: nltk>=3.1 in c:\\programdata\\anaconda3\\lib\\site-packages (from textblob) (3.5)\n",
      "Requirement already satisfied: click in c:\\programdata\\anaconda3\\lib\\site-packages (from nltk>=3.1->textblob) (7.1.2)\n",
      "Requirement already satisfied: joblib in c:\\programdata\\anaconda3\\lib\\site-packages (from nltk>=3.1->textblob) (0.16.0)\n",
      "Requirement already satisfied: tqdm in c:\\programdata\\anaconda3\\lib\\site-packages (from nltk>=3.1->textblob) (4.47.0)\n",
      "Requirement already satisfied: regex in c:\\programdata\\anaconda3\\lib\\site-packages (from nltk>=3.1->textblob) (2020.6.8)\n"
     ]
    }
   ],
   "source": [
    "!pip install Sastrawi\n",
    "!pip install nltk\n",
    "!pip install textblob"
   ]
  },
  {
   "cell_type": "code",
   "execution_count": 280,
   "metadata": {},
   "outputs": [
    {
     "name": "stderr",
     "output_type": "stream",
     "text": [
      "[nltk_data] Downloading package punkt to\n",
      "[nltk_data]     C:\\Users\\RIZQI\\AppData\\Roaming\\nltk_data...\n",
      "[nltk_data]   Package punkt is already up-to-date!\n",
      "[nltk_data] Downloading package stopwords to\n",
      "[nltk_data]     C:\\Users\\RIZQI\\AppData\\Roaming\\nltk_data...\n",
      "[nltk_data]   Package stopwords is already up-to-date!\n"
     ]
    }
   ],
   "source": [
    "from sklearn import tree\n",
    "from sklearn.svm import SVC\n",
    "from sklearn.ensemble import RandomForestClassifier\n",
    "from sklearn.neighbors import KNeighborsClassifier\n",
    "\n",
    "from sklearn import metrics\n",
    "from sklearn import preprocessing\n",
    "from sklearn.model_selection import cross_val_score\n",
    "from sklearn.model_selection import GridSearchCV\n",
    "from sklearn.metrics import classification_report\n",
    "from sklearn.model_selection import train_test_split\n",
    "from sklearn.feature_extraction.text import TfidfVectorizer, CountVectorizer\n",
    "\n",
    "from nltk.corpus import stopwords\n",
    "from Sastrawi.Stemmer.StemmerFactory import StemmerFactory\n",
    "import re\n",
    "import nltk\n",
    "from nltk.corpus import stopwords\n",
    "nltk.download('punkt')\n",
    "nltk.download('stopwords')\n",
    "\n",
    "import pandas as pd\n",
    "import seaborn as sns"
   ]
  },
  {
   "cell_type": "code",
   "execution_count": 179,
   "metadata": {},
   "outputs": [
    {
     "data": {
      "text/html": [
       "<div>\n",
       "<style scoped>\n",
       "    .dataframe tbody tr th:only-of-type {\n",
       "        vertical-align: middle;\n",
       "    }\n",
       "\n",
       "    .dataframe tbody tr th {\n",
       "        vertical-align: top;\n",
       "    }\n",
       "\n",
       "    .dataframe thead th {\n",
       "        text-align: right;\n",
       "    }\n",
       "</style>\n",
       "<table border=\"1\" class=\"dataframe\">\n",
       "  <thead>\n",
       "    <tr style=\"text-align: right;\">\n",
       "      <th></th>\n",
       "      <th>label</th>\n",
       "      <th>tweet</th>\n",
       "    </tr>\n",
       "  </thead>\n",
       "  <tbody>\n",
       "    <tr>\n",
       "      <th>0</th>\n",
       "      <td>Non_HS</td>\n",
       "      <td>RT @spardaxyz: Fadli Zon Minta Mendagri Segera...</td>\n",
       "    </tr>\n",
       "    <tr>\n",
       "      <th>1</th>\n",
       "      <td>Non_HS</td>\n",
       "      <td>RT @baguscondromowo: Mereka terus melukai aksi...</td>\n",
       "    </tr>\n",
       "    <tr>\n",
       "      <th>2</th>\n",
       "      <td>Non_HS</td>\n",
       "      <td>Sylvi: bagaimana gurbernur melakukan kekerasan...</td>\n",
       "    </tr>\n",
       "    <tr>\n",
       "      <th>3</th>\n",
       "      <td>Non_HS</td>\n",
       "      <td>Ahmad Dhani Tak Puas Debat Pilkada, Masalah Ja...</td>\n",
       "    </tr>\n",
       "    <tr>\n",
       "      <th>4</th>\n",
       "      <td>Non_HS</td>\n",
       "      <td>RT @lisdaulay28: Waspada KTP palsu.....kawal P...</td>\n",
       "    </tr>\n",
       "  </tbody>\n",
       "</table>\n",
       "</div>"
      ],
      "text/plain": [
       "    label                                              tweet\n",
       "0  Non_HS  RT @spardaxyz: Fadli Zon Minta Mendagri Segera...\n",
       "1  Non_HS  RT @baguscondromowo: Mereka terus melukai aksi...\n",
       "2  Non_HS  Sylvi: bagaimana gurbernur melakukan kekerasan...\n",
       "3  Non_HS  Ahmad Dhani Tak Puas Debat Pilkada, Masalah Ja...\n",
       "4  Non_HS  RT @lisdaulay28: Waspada KTP palsu.....kawal P..."
      ]
     },
     "execution_count": 179,
     "metadata": {},
     "output_type": "execute_result"
    }
   ],
   "source": [
    "df = pd.read_csv('data/hate-speech/IDHSD_RIO_unbalanced_713_2017.txt', sep='\\t', header=None, names=['label', 'tweet'], skiprows=1, engine='python')\n",
    "df.head()"
   ]
  },
  {
   "cell_type": "markdown",
   "metadata": {},
   "source": [
    "### Exploratory Data Analysis"
   ]
  },
  {
   "cell_type": "code",
   "execution_count": 180,
   "metadata": {},
   "outputs": [
    {
     "name": "stdout",
     "output_type": "stream",
     "text": [
      "<class 'pandas.core.frame.DataFrame'>\n",
      "RangeIndex: 713 entries, 0 to 712\n",
      "Data columns (total 2 columns):\n",
      " #   Column  Non-Null Count  Dtype \n",
      "---  ------  --------------  ----- \n",
      " 0   label   713 non-null    object\n",
      " 1   tweet   713 non-null    object\n",
      "dtypes: object(2)\n",
      "memory usage: 11.3+ KB\n"
     ]
    }
   ],
   "source": [
    "df.info()"
   ]
  },
  {
   "cell_type": "code",
   "execution_count": 181,
   "metadata": {},
   "outputs": [
    {
     "data": {
      "text/plain": [
       "<seaborn.axisgrid.FacetGrid at 0x263a10c68e0>"
      ]
     },
     "execution_count": 181,
     "metadata": {},
     "output_type": "execute_result"
    },
    {
     "data": {
      "image/png": "[encoded data removed]",
      "text/plain": [
       "<Figure size 360x360 with 1 Axes>"
      ]
     },
     "metadata": {
      "needs_background": "light"
     },
     "output_type": "display_data"
    }
   ],
   "source": [
    "sns.catplot(x='label', kind='count', data=df, orient='h')"
   ]
  },
  {
   "cell_type": "markdown",
   "metadata": {},
   "source": [
    "### Data Preprocessing"
   ]
  },
  {
   "cell_type": "code",
   "execution_count": 182,
   "metadata": {},
   "outputs": [
    {
     "data": {
      "text/plain": [
       "LabelEncoder()"
      ]
     },
     "execution_count": 182,
     "metadata": {},
     "output_type": "execute_result"
    }
   ],
   "source": [
    "# Label Encoding\n",
    "le = preprocessing.LabelEncoder()\n",
    "le.fit(df['label'])"
   ]
  },
  {
   "cell_type": "code",
   "execution_count": 217,
   "metadata": {},
   "outputs": [],
   "source": [
    "# le.classes_"
   ]
  },
  {
   "cell_type": "code",
   "execution_count": 184,
   "metadata": {},
   "outputs": [
    {
     "data": {
      "text/html": [
       "<div>\n",
       "<style scoped>\n",
       "    .dataframe tbody tr th:only-of-type {\n",
       "        vertical-align: middle;\n",
       "    }\n",
       "\n",
       "    .dataframe tbody tr th {\n",
       "        vertical-align: top;\n",
       "    }\n",
       "\n",
       "    .dataframe thead th {\n",
       "        text-align: right;\n",
       "    }\n",
       "</style>\n",
       "<table border=\"1\" class=\"dataframe\">\n",
       "  <thead>\n",
       "    <tr style=\"text-align: right;\">\n",
       "      <th></th>\n",
       "      <th>label</th>\n",
       "      <th>tweet</th>\n",
       "    </tr>\n",
       "  </thead>\n",
       "  <tbody>\n",
       "    <tr>\n",
       "      <th>0</th>\n",
       "      <td>1</td>\n",
       "      <td>RT @spardaxyz: Fadli Zon Minta Mendagri Segera...</td>\n",
       "    </tr>\n",
       "    <tr>\n",
       "      <th>1</th>\n",
       "      <td>1</td>\n",
       "      <td>RT @baguscondromowo: Mereka terus melukai aksi...</td>\n",
       "    </tr>\n",
       "    <tr>\n",
       "      <th>2</th>\n",
       "      <td>1</td>\n",
       "      <td>Sylvi: bagaimana gurbernur melakukan kekerasan...</td>\n",
       "    </tr>\n",
       "    <tr>\n",
       "      <th>3</th>\n",
       "      <td>1</td>\n",
       "      <td>Ahmad Dhani Tak Puas Debat Pilkada, Masalah Ja...</td>\n",
       "    </tr>\n",
       "    <tr>\n",
       "      <th>4</th>\n",
       "      <td>1</td>\n",
       "      <td>RT @lisdaulay28: Waspada KTP palsu.....kawal P...</td>\n",
       "    </tr>\n",
       "  </tbody>\n",
       "</table>\n",
       "</div>"
      ],
      "text/plain": [
       "   label                                              tweet\n",
       "0      1  RT @spardaxyz: Fadli Zon Minta Mendagri Segera...\n",
       "1      1  RT @baguscondromowo: Mereka terus melukai aksi...\n",
       "2      1  Sylvi: bagaimana gurbernur melakukan kekerasan...\n",
       "3      1  Ahmad Dhani Tak Puas Debat Pilkada, Masalah Ja...\n",
       "4      1  RT @lisdaulay28: Waspada KTP palsu.....kawal P..."
      ]
     },
     "execution_count": 184,
     "metadata": {},
     "output_type": "execute_result"
    }
   ],
   "source": [
    "df['label'] = le.transform(df['label'])\n",
    "df.head()"
   ]
  },
  {
   "cell_type": "code",
   "execution_count": 199,
   "metadata": {},
   "outputs": [
    {
     "data": {
      "text/html": [
       "<div>\n",
       "<style scoped>\n",
       "    .dataframe tbody tr th:only-of-type {\n",
       "        vertical-align: middle;\n",
       "    }\n",
       "\n",
       "    .dataframe tbody tr th {\n",
       "        vertical-align: top;\n",
       "    }\n",
       "\n",
       "    .dataframe thead th {\n",
       "        text-align: right;\n",
       "    }\n",
       "</style>\n",
       "<table border=\"1\" class=\"dataframe\">\n",
       "  <thead>\n",
       "    <tr style=\"text-align: right;\">\n",
       "      <th></th>\n",
       "      <th>label</th>\n",
       "      <th>tweet</th>\n",
       "    </tr>\n",
       "  </thead>\n",
       "  <tbody>\n",
       "    <tr>\n",
       "      <th>0</th>\n",
       "      <td>1</td>\n",
       "      <td>RT @spardaxyz: Fadli Zon Minta Mendagri Segera...</td>\n",
       "    </tr>\n",
       "    <tr>\n",
       "      <th>1</th>\n",
       "      <td>1</td>\n",
       "      <td>RT @baguscondromowo: Mereka terus melukai aksi...</td>\n",
       "    </tr>\n",
       "    <tr>\n",
       "      <th>2</th>\n",
       "      <td>1</td>\n",
       "      <td>Sylvi: bagaimana gurbernur melakukan kekerasan...</td>\n",
       "    </tr>\n",
       "    <tr>\n",
       "      <th>3</th>\n",
       "      <td>1</td>\n",
       "      <td>Ahmad Dhani Tak Puas Debat Pilkada, Masalah Ja...</td>\n",
       "    </tr>\n",
       "    <tr>\n",
       "      <th>4</th>\n",
       "      <td>1</td>\n",
       "      <td>RT @lisdaulay28: Waspada KTP palsu.....kawal P...</td>\n",
       "    </tr>\n",
       "  </tbody>\n",
       "</table>\n",
       "</div>"
      ],
      "text/plain": [
       "   label                                              tweet\n",
       "0      1  RT @spardaxyz: Fadli Zon Minta Mendagri Segera...\n",
       "1      1  RT @baguscondromowo: Mereka terus melukai aksi...\n",
       "2      1  Sylvi: bagaimana gurbernur melakukan kekerasan...\n",
       "3      1  Ahmad Dhani Tak Puas Debat Pilkada, Masalah Ja...\n",
       "4      1  RT @lisdaulay28: Waspada KTP palsu.....kawal P..."
      ]
     },
     "execution_count": 199,
     "metadata": {},
     "output_type": "execute_result"
    }
   ],
   "source": [
    "df.head()"
   ]
  },
  {
   "cell_type": "code",
   "execution_count": 213,
   "metadata": {},
   "outputs": [
    {
     "data": {
      "text/html": [
       "<div>\n",
       "<style scoped>\n",
       "    .dataframe tbody tr th:only-of-type {\n",
       "        vertical-align: middle;\n",
       "    }\n",
       "\n",
       "    .dataframe tbody tr th {\n",
       "        vertical-align: top;\n",
       "    }\n",
       "\n",
       "    .dataframe thead th {\n",
       "        text-align: right;\n",
       "    }\n",
       "</style>\n",
       "<table border=\"1\" class=\"dataframe\">\n",
       "  <thead>\n",
       "    <tr style=\"text-align: right;\">\n",
       "      <th></th>\n",
       "      <th>label</th>\n",
       "      <th>tweet</th>\n",
       "      <th>tweet_filtering</th>\n",
       "    </tr>\n",
       "  </thead>\n",
       "  <tbody>\n",
       "    <tr>\n",
       "      <th>0</th>\n",
       "      <td>1</td>\n",
       "      <td>RT @spardaxyz: Fadli Zon Minta Mendagri Segera...</td>\n",
       "      <td>RT spardaxyz Fadli Zon Minta Mendagri Segera M...</td>\n",
       "    </tr>\n",
       "    <tr>\n",
       "      <th>1</th>\n",
       "      <td>1</td>\n",
       "      <td>RT @baguscondromowo: Mereka terus melukai aksi...</td>\n",
       "      <td>RT baguscondromowo Mereka terus melukai aksi d...</td>\n",
       "    </tr>\n",
       "    <tr>\n",
       "      <th>2</th>\n",
       "      <td>1</td>\n",
       "      <td>Sylvi: bagaimana gurbernur melakukan kekerasan...</td>\n",
       "      <td>Sylvi bagaimana gurbernur melakukan kekerasan ...</td>\n",
       "    </tr>\n",
       "    <tr>\n",
       "      <th>3</th>\n",
       "      <td>1</td>\n",
       "      <td>Ahmad Dhani Tak Puas Debat Pilkada, Masalah Ja...</td>\n",
       "      <td>Ahmad Dhani Tak Puas Debat Pilkada Masalah Jal...</td>\n",
       "    </tr>\n",
       "    <tr>\n",
       "      <th>4</th>\n",
       "      <td>1</td>\n",
       "      <td>RT @lisdaulay28: Waspada KTP palsu.....kawal P...</td>\n",
       "      <td>RT lisdaulay28 Waspada KTP palsu kawal PILKADA...</td>\n",
       "    </tr>\n",
       "  </tbody>\n",
       "</table>\n",
       "</div>"
      ],
      "text/plain": [
       "   label                                              tweet  \\\n",
       "0      1  RT @spardaxyz: Fadli Zon Minta Mendagri Segera...   \n",
       "1      1  RT @baguscondromowo: Mereka terus melukai aksi...   \n",
       "2      1  Sylvi: bagaimana gurbernur melakukan kekerasan...   \n",
       "3      1  Ahmad Dhani Tak Puas Debat Pilkada, Masalah Ja...   \n",
       "4      1  RT @lisdaulay28: Waspada KTP palsu.....kawal P...   \n",
       "\n",
       "                                     tweet_filtering  \n",
       "0  RT spardaxyz Fadli Zon Minta Mendagri Segera M...  \n",
       "1  RT baguscondromowo Mereka terus melukai aksi d...  \n",
       "2  Sylvi bagaimana gurbernur melakukan kekerasan ...  \n",
       "3  Ahmad Dhani Tak Puas Debat Pilkada Masalah Jal...  \n",
       "4  RT lisdaulay28 Waspada KTP palsu kawal PILKADA...  "
      ]
     },
     "execution_count": 213,
     "metadata": {},
     "output_type": "execute_result"
    }
   ],
   "source": [
    "# Filtering\n",
    "def filtering(tweet):\n",
    "    result = re.sub('[^A-Za-z0-9]+', ' ', tweet)\n",
    "    result = re.sub('https ', '', result)\n",
    "    return result\n",
    "\n",
    "df['tweet_filtering'] = df['tweet'].apply(filtering)\n",
    "df.head()"
   ]
  },
  {
   "cell_type": "code",
   "execution_count": 216,
   "metadata": {},
   "outputs": [
    {
     "data": {
      "text/html": [
       "<div>\n",
       "<style scoped>\n",
       "    .dataframe tbody tr th:only-of-type {\n",
       "        vertical-align: middle;\n",
       "    }\n",
       "\n",
       "    .dataframe tbody tr th {\n",
       "        vertical-align: top;\n",
       "    }\n",
       "\n",
       "    .dataframe thead th {\n",
       "        text-align: right;\n",
       "    }\n",
       "</style>\n",
       "<table border=\"1\" class=\"dataframe\">\n",
       "  <thead>\n",
       "    <tr style=\"text-align: right;\">\n",
       "      <th></th>\n",
       "      <th>label</th>\n",
       "      <th>tweet</th>\n",
       "      <th>tweet_filtering</th>\n",
       "      <th>tweet_stemming</th>\n",
       "    </tr>\n",
       "  </thead>\n",
       "  <tbody>\n",
       "    <tr>\n",
       "      <th>0</th>\n",
       "      <td>1</td>\n",
       "      <td>RT @spardaxyz: Fadli Zon Minta Mendagri Segera...</td>\n",
       "      <td>RT spardaxyz Fadli Zon Minta Mendagri Segera M...</td>\n",
       "      <td>rt spardaxyz fadli zon minta mendagri segera n...</td>\n",
       "    </tr>\n",
       "    <tr>\n",
       "      <th>1</th>\n",
       "      <td>1</td>\n",
       "      <td>RT @baguscondromowo: Mereka terus melukai aksi...</td>\n",
       "      <td>RT baguscondromowo Mereka terus melukai aksi d...</td>\n",
       "      <td>rt baguscondromowo mereka terus luka aksi dala...</td>\n",
       "    </tr>\n",
       "    <tr>\n",
       "      <th>2</th>\n",
       "      <td>1</td>\n",
       "      <td>Sylvi: bagaimana gurbernur melakukan kekerasan...</td>\n",
       "      <td>Sylvi bagaimana gurbernur melakukan kekerasan ...</td>\n",
       "      <td>sylvi bagaimana gurbernur laku keras perempuan...</td>\n",
       "    </tr>\n",
       "    <tr>\n",
       "      <th>3</th>\n",
       "      <td>1</td>\n",
       "      <td>Ahmad Dhani Tak Puas Debat Pilkada, Masalah Ja...</td>\n",
       "      <td>Ahmad Dhani Tak Puas Debat Pilkada Masalah Jal...</td>\n",
       "      <td>ahmad dhani tak puas debat pilkada masalah jal...</td>\n",
       "    </tr>\n",
       "    <tr>\n",
       "      <th>4</th>\n",
       "      <td>1</td>\n",
       "      <td>RT @lisdaulay28: Waspada KTP palsu.....kawal P...</td>\n",
       "      <td>RT lisdaulay28 Waspada KTP palsu kawal PILKADA...</td>\n",
       "      <td>rt lisdaulay28 waspada ktp palsu kawal pilkada...</td>\n",
       "    </tr>\n",
       "  </tbody>\n",
       "</table>\n",
       "</div>"
      ],
      "text/plain": [
       "   label                                              tweet  \\\n",
       "0      1  RT @spardaxyz: Fadli Zon Minta Mendagri Segera...   \n",
       "1      1  RT @baguscondromowo: Mereka terus melukai aksi...   \n",
       "2      1  Sylvi: bagaimana gurbernur melakukan kekerasan...   \n",
       "3      1  Ahmad Dhani Tak Puas Debat Pilkada, Masalah Ja...   \n",
       "4      1  RT @lisdaulay28: Waspada KTP palsu.....kawal P...   \n",
       "\n",
       "                                     tweet_filtering  \\\n",
       "0  RT spardaxyz Fadli Zon Minta Mendagri Segera M...   \n",
       "1  RT baguscondromowo Mereka terus melukai aksi d...   \n",
       "2  Sylvi bagaimana gurbernur melakukan kekerasan ...   \n",
       "3  Ahmad Dhani Tak Puas Debat Pilkada Masalah Jal...   \n",
       "4  RT lisdaulay28 Waspada KTP palsu kawal PILKADA...   \n",
       "\n",
       "                                      tweet_stemming  \n",
       "0  rt spardaxyz fadli zon minta mendagri segera n...  \n",
       "1  rt baguscondromowo mereka terus luka aksi dala...  \n",
       "2  sylvi bagaimana gurbernur laku keras perempuan...  \n",
       "3  ahmad dhani tak puas debat pilkada masalah jal...  \n",
       "4  rt lisdaulay28 waspada ktp palsu kawal pilkada...  "
      ]
     },
     "execution_count": 216,
     "metadata": {},
     "output_type": "execute_result"
    }
   ],
   "source": [
    "# Stemming\n",
    "def stemming(tweet):\n",
    "    stemmer = StemmerFactory().create_stemmer()\n",
    "    result = stemmer.stem(tweet)\n",
    "    return result\n",
    "\n",
    "df['tweet_stemming'] = df['tweet_filtering'].apply(stemming)\n",
    "df.head()"
   ]
  },
  {
   "cell_type": "code",
   "execution_count": 231,
   "metadata": {},
   "outputs": [],
   "source": [
    "# Remove Stop Words\n",
    "sw = stopwords.words('indonesian')"
   ]
  },
  {
   "cell_type": "code",
   "execution_count": 232,
   "metadata": {},
   "outputs": [],
   "source": [
    "# Lemmatization"
   ]
  },
  {
   "cell_type": "code",
   "execution_count": 234,
   "metadata": {},
   "outputs": [
    {
     "name": "stderr",
     "output_type": "stream",
     "text": [
      "C:\\ProgramData\\Anaconda3\\lib\\site-packages\\sklearn\\feature_extraction\\text.py:383: UserWarning: Your stop_words may be inconsistent with your preprocessing. Tokenizing the stop words generated tokens ['baiknya', 'berkali', 'kali', 'kurangnya', 'mata', 'olah', 'sekurang', 'setidak', 'tama', 'tidaknya'] not in stop_words.\n",
      "  warnings.warn('Your stop_words may be inconsistent with '\n"
     ]
    }
   ],
   "source": [
    "vect = TfidfVectorizer(stop_words=sw)\n",
    "x = df['tweet_stemming']\n",
    "y = df['label']\n",
    "\n",
    "# vectorizer\n",
    "x = vect.fit_transform(x)\n",
    "\n",
    "# secara default 75 25\n",
    "x_train, x_test, y_train, y_test = train_test_split(x,y,stratify=y)"
   ]
  },
  {
   "cell_type": "code",
   "execution_count": 253,
   "metadata": {},
   "outputs": [],
   "source": [
    "list_model = []\n",
    "list_acc = []\n",
    "list_precision = []\n",
    "list_recall = []\n",
    "\n",
    "def evaluation(m):\n",
    "    model = m\n",
    "    model.fit(x_train,y_train)\n",
    "    y_pred = model.predict(x_test)\n",
    "    acc = round(metrics.accuracy_score(y_test, y_pred),2)\n",
    "    prec = round(metrics.precision_score(y_test, y_pred),2)\n",
    "    recall = round(metrics.recall_score(y_test, y_pred),2)\n",
    "    list_model.append(str(model).split('(')[0])\n",
    "    list_acc.append(acc)\n",
    "    list_precision.append(prec)\n",
    "    list_recall.append(recall)\n",
    "    #print(f\"\"\"{str(model).split('(')[0]} \\nAccuracy : {acc} \\nPrecision : {prec} \\nRecall : {recall}\"\"\")\n",
    "    print(f\"\"\"Algorithm : {str(model).split('(')[0]} \\n {classification_report(y_test,y_pred)} \"\"\")"
   ]
  },
  {
   "cell_type": "code",
   "execution_count": 282,
   "metadata": {},
   "outputs": [
    {
     "name": "stdout",
     "output_type": "stream",
     "text": [
      "Algorithm : SVC \n",
      "               precision    recall  f1-score   support\n",
      "\n",
      "           0       0.97      0.55      0.71        65\n",
      "           1       0.80      0.99      0.88       114\n",
      "\n",
      "    accuracy                           0.83       179\n",
      "   macro avg       0.88      0.77      0.79       179\n",
      "weighted avg       0.86      0.83      0.82       179\n",
      " \n"
     ]
    }
   ],
   "source": [
    "evaluation(SVC())"
   ]
  },
  {
   "cell_type": "code",
   "execution_count": 283,
   "metadata": {},
   "outputs": [
    {
     "name": "stdout",
     "output_type": "stream",
     "text": [
      "Algorithm : KNeighborsClassifier \n",
      "               precision    recall  f1-score   support\n",
      "\n",
      "           0       0.82      0.69      0.75        65\n",
      "           1       0.84      0.91      0.87       114\n",
      "\n",
      "    accuracy                           0.83       179\n",
      "   macro avg       0.83      0.80      0.81       179\n",
      "weighted avg       0.83      0.83      0.83       179\n",
      " \n"
     ]
    }
   ],
   "source": [
    "evaluation(KNeighborsClassifier())"
   ]
  },
  {
   "cell_type": "code",
   "execution_count": 284,
   "metadata": {},
   "outputs": [
    {
     "name": "stdout",
     "output_type": "stream",
     "text": [
      "Algorithm : DecisionTreeClassifier \n",
      "               precision    recall  f1-score   support\n",
      "\n",
      "           0       0.80      0.68      0.73        65\n",
      "           1       0.83      0.90      0.87       114\n",
      "\n",
      "    accuracy                           0.82       179\n",
      "   macro avg       0.82      0.79      0.80       179\n",
      "weighted avg       0.82      0.82      0.82       179\n",
      " \n"
     ]
    }
   ],
   "source": [
    "evaluation(tree.DecisionTreeClassifier())"
   ]
  },
  {
   "cell_type": "code",
   "execution_count": 285,
   "metadata": {},
   "outputs": [
    {
     "name": "stdout",
     "output_type": "stream",
     "text": [
      "Algorithm : RandomForestClassifier \n",
      "               precision    recall  f1-score   support\n",
      "\n",
      "           0       0.97      0.60      0.74        65\n",
      "           1       0.81      0.99      0.89       114\n",
      "\n",
      "    accuracy                           0.85       179\n",
      "   macro avg       0.89      0.80      0.82       179\n",
      "weighted avg       0.87      0.85      0.84       179\n",
      " \n"
     ]
    }
   ],
   "source": [
    "evaluation(RandomForestClassifier())"
   ]
  },
  {
   "cell_type": "code",
   "execution_count": 258,
   "metadata": {},
   "outputs": [
    {
     "data": {
      "text/html": [
       "<div>\n",
       "<style scoped>\n",
       "    .dataframe tbody tr th:only-of-type {\n",
       "        vertical-align: middle;\n",
       "    }\n",
       "\n",
       "    .dataframe tbody tr th {\n",
       "        vertical-align: top;\n",
       "    }\n",
       "\n",
       "    .dataframe thead th {\n",
       "        text-align: right;\n",
       "    }\n",
       "</style>\n",
       "<table border=\"1\" class=\"dataframe\">\n",
       "  <thead>\n",
       "    <tr style=\"text-align: right;\">\n",
       "      <th></th>\n",
       "      <th>Algoritma</th>\n",
       "      <th>Accuracy</th>\n",
       "      <th>Precision</th>\n",
       "      <th>Recall</th>\n",
       "    </tr>\n",
       "  </thead>\n",
       "  <tbody>\n",
       "    <tr>\n",
       "      <th>3</th>\n",
       "      <td>RandomForestClassifier</td>\n",
       "      <td>0.86</td>\n",
       "      <td>0.82</td>\n",
       "      <td>0.99</td>\n",
       "    </tr>\n",
       "    <tr>\n",
       "      <th>0</th>\n",
       "      <td>SVC</td>\n",
       "      <td>0.83</td>\n",
       "      <td>0.80</td>\n",
       "      <td>0.99</td>\n",
       "    </tr>\n",
       "    <tr>\n",
       "      <th>1</th>\n",
       "      <td>KNeighborsClassifier</td>\n",
       "      <td>0.83</td>\n",
       "      <td>0.84</td>\n",
       "      <td>0.91</td>\n",
       "    </tr>\n",
       "    <tr>\n",
       "      <th>2</th>\n",
       "      <td>DecisionTreeClassifier</td>\n",
       "      <td>0.80</td>\n",
       "      <td>0.84</td>\n",
       "      <td>0.85</td>\n",
       "    </tr>\n",
       "  </tbody>\n",
       "</table>\n",
       "</div>"
      ],
      "text/plain": [
       "                Algoritma  Accuracy  Precision  Recall\n",
       "3  RandomForestClassifier      0.86       0.82    0.99\n",
       "0                     SVC      0.83       0.80    0.99\n",
       "1    KNeighborsClassifier      0.83       0.84    0.91\n",
       "2  DecisionTreeClassifier      0.80       0.84    0.85"
      ]
     },
     "execution_count": 258,
     "metadata": {},
     "output_type": "execute_result"
    }
   ],
   "source": [
    "df_summary = pd.DataFrame({'Algoritma' : list_model, 'Accuracy' : list_acc, 'Precision' : list_precision, 'Recall' : list_recall})\n",
    "df_summary.sort_values(by='Accuracy',ascending=False)"
   ]
  },
  {
   "cell_type": "code",
   "execution_count": 244,
   "metadata": {},
   "outputs": [
    {
     "data": {
      "text/plain": [
       "0.84"
      ]
     },
     "execution_count": 244,
     "metadata": {},
     "output_type": "execute_result"
    }
   ],
   "source": [
    "# Model Initiation\n",
    "model = RandomForestClassifier()\n",
    "round(cross_val_score(model,x,y,cv=20).mean(),2)"
   ]
  },
  {
   "cell_type": "code",
   "execution_count": 245,
   "metadata": {},
   "outputs": [
    {
     "name": "stdout",
     "output_type": "stream",
     "text": [
      "{'class_weight': 'balanced', 'criterion': 'gini', 'max_features': 'auto', 'n_estimators': 100}\n",
      "0.8317837092484981\n"
     ]
    }
   ],
   "source": [
    "# Hyperparameter tuning\n",
    "param_grid = {'criterion' : ['gini','entropy'],\n",
    "'max_features' : ['auto','sqrt','log2'],\n",
    "'n_estimators' : [100,200,300],\n",
    "'class_weight' : ['balanced','balanced_subsample']}\n",
    "\n",
    "gsv = GridSearchCV(RandomForestClassifier(),param_grid=param_grid,n_jobs=4,cv=5)\n",
    "gsv.fit(x,y)\n",
    "print(gsv.best_params_)\n",
    "print(gsv.best_score_)"
   ]
  },
  {
   "cell_type": "code",
   "execution_count": 273,
   "metadata": {},
   "outputs": [
    {
     "name": "stdout",
     "output_type": "stream",
     "text": [
      "              precision    recall  f1-score   support\n",
      "\n",
      "           0       0.62      0.95      0.75        42\n",
      "           1       0.98      0.82      0.89       137\n",
      "\n",
      "    accuracy                           0.85       179\n",
      "   macro avg       0.80      0.88      0.82       179\n",
      "weighted avg       0.90      0.85      0.86       179\n",
      "\n"
     ]
    }
   ],
   "source": [
    "model = RandomForestClassifier(**gsv.best_params_)\n",
    "model.fit(x_train,y_train)\n",
    "y_pred = model.predict(x_test)\n",
    "print(classification_report(y_pred,y_test))"
   ]
  },
  {
   "cell_type": "code",
   "execution_count": 275,
   "metadata": {},
   "outputs": [
    {
     "data": {
      "text/plain": [
       "0.8219639515414163"
      ]
     },
     "execution_count": 275,
     "metadata": {},
     "output_type": "execute_result"
    }
   ],
   "source": [
    "cross_val_score(model,x,y,cv=5).mean()"
   ]
  },
  {
   "cell_type": "markdown",
   "metadata": {},
   "source": [
    "After the prediction process using Random Forest Classifier Algorithm and evaluation process using cross validation, it obtained accuracy of **82.19%**. This means that this algorithm has an error tolerance of **17.81 %**."
   ]
  },
  {
   "cell_type": "code",
   "execution_count": null,
   "metadata": {},
   "outputs": [],
   "source": [
    "# end"
   ]
  }
 ],
 "metadata": {
  "kernelspec": {
   "display_name": "Python 3",
   "language": "python",
   "name": "python3"
  },
  "language_info": {
   "codemirror_mode": {
    "name": "ipython",
    "version": 3
   },
   "file_extension": ".py",
   "mimetype": "text/x-python",
   "name": "python",
   "nbconvert_exporter": "python",
   "pygments_lexer": "ipython3",
   "version": "3.8.3"
  }
 },
 "nbformat": 4,
 "nbformat_minor": 4
}
